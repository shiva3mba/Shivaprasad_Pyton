{
  "nbformat": 4,
  "nbformat_minor": 0,
  "metadata": {
    "colab": {
      "provenance": []
    },
    "kernelspec": {
      "name": "python3",
      "display_name": "Python 3"
    },
    "language_info": {
      "name": "python"
    }
  },
  "cells": [
    {
      "cell_type": "code",
      "execution_count": null,
      "metadata": {
        "colab": {
          "base_uri": "https://localhost:8080/"
        },
        "id": "LynczderHEfx",
        "outputId": "341612f5-47fa-4176-cb7a-3453d0392be7"
      },
      "outputs": [
        {
          "output_type": "stream",
          "name": "stdout",
          "text": [
            "Hello World\n"
          ]
        }
      ],
      "source": [
        "print(\"Hello World\")"
      ]
    },
    {
      "cell_type": "code",
      "source": [
        "def shiva_fun():\n",
        "  print(\"Shivaprasad Learning Python\")\n",
        "  print(\"It is big challenge\")\n",
        "\n",
        "print (\"Before calling Function\")\n",
        "\n",
        "shiva_fun()\n",
        "\n",
        "print(\"After calling Function\")\n",
        "\n",
        "print (shiva_fun()) #Retruns None as it does not executing any logic\n"
      ],
      "metadata": {
        "id": "VFDt8V6IYqE1",
        "outputId": "4be31420-1a39-4faa-fbda-182217e575f8",
        "colab": {
          "base_uri": "https://localhost:8080/"
        }
      },
      "execution_count": 4,
      "outputs": [
        {
          "output_type": "stream",
          "name": "stdout",
          "text": [
            "Before calling Function\n",
            "Shivaprasad Learning Python\n",
            "It is big challenge\n",
            "After calling Function\n",
            "Shivaprasad Learning Python\n",
            "It is big challenge\n",
            "None\n"
          ]
        }
      ]
    },
    {
      "cell_type": "code",
      "source": [],
      "metadata": {
        "id": "__w3qtUMZSYD"
      },
      "execution_count": null,
      "outputs": []
    },
    {
      "cell_type": "code",
      "source": [],
      "metadata": {
        "id": "XTWeBr-QZCJh"
      },
      "execution_count": null,
      "outputs": []
    }
  ]
}