{
  "nbformat": 4,
  "nbformat_minor": 0,
  "metadata": {
    "colab": {
      "provenance": []
    },
    "kernelspec": {
      "name": "python3",
      "display_name": "Python 3"
    },
    "language_info": {
      "name": "python"
    }
  },
  "cells": [
    {
      "cell_type": "code",
      "execution_count": 3,
      "metadata": {
        "colab": {
          "base_uri": "https://localhost:8080/"
        },
        "id": "HpmbKqI7jltH",
        "outputId": "a11a958f-7999-4374-b445-74293495cdeb"
      },
      "outputs": [
        {
          "output_type": "stream",
          "name": "stdout",
          "text": [
            "I am Shivaprasad Bollempally\n"
          ]
        }
      ],
      "source": [
        "#Learning Python\n",
        "SP = \"I am Shivaprasad Bollempally\"\n",
        "print (SP)"
      ]
    },
    {
      "cell_type": "code",
      "source": [
        "#Adding Numbers\n",
        "a = 20\n",
        "b = 30\n",
        "c = 20\n",
        "print (a+b+c)"
      ],
      "metadata": {
        "colab": {
          "base_uri": "https://localhost:8080/"
        },
        "id": "0fkLnQBk_obt",
        "outputId": "002bf20d-ec2f-4fe0-c789-b283b2d4c1c9"
      },
      "execution_count": 5,
      "outputs": [
        {
          "output_type": "stream",
          "name": "stdout",
          "text": [
            "70\n"
          ]
        }
      ]
    },
    {
      "cell_type": "code",
      "source": [
        "#types of Integer data types\n",
        "a = 20\n",
        "b = 599+8j\n",
        "c = 20.3\n",
        "d = \"Shivaprasad\"\n",
        "print (type(a))\n",
        "print (type(b))\n",
        "print (type(c))\n",
        "print (type(d))"
      ],
      "metadata": {
        "colab": {
          "base_uri": "https://localhost:8080/"
        },
        "id": "AtcZJzAFAI5S",
        "outputId": "0c87b359-469f-4b0e-d27e-39484efd2ecf"
      },
      "execution_count": 8,
      "outputs": [
        {
          "output_type": "stream",
          "name": "stdout",
          "text": [
            "<class 'int'>\n",
            "<class 'complex'>\n",
            "<class 'float'>\n",
            "<class 'str'>\n"
          ]
        }
      ]
    },
    {
      "cell_type": "code",
      "source": [],
      "metadata": {
        "id": "ibrNUzN2B5-k"
      },
      "execution_count": null,
      "outputs": []
    },
    {
      "cell_type": "code",
      "source": [
        "#String\n",
        "SP = \"Shivaprasad Bollempally\"\n",
        "print (len(SP))"
      ],
      "metadata": {
        "colab": {
          "base_uri": "https://localhost:8080/"
        },
        "id": "jR8D1KR6BaG8",
        "outputId": "60a64b42-53a9-42a5-f058-119b47511d9f"
      },
      "execution_count": 11,
      "outputs": [
        {
          "output_type": "stream",
          "name": "stdout",
          "text": [
            "23\n"
          ]
        }
      ]
    },
    {
      "cell_type": "code",
      "source": [
        "#List =  List of data's having different data types\n",
        "My_list = ['facebook',12.5, 300,2+3j, [1,2,3]]\n",
        "print (My_list)\n"
      ],
      "metadata": {
        "colab": {
          "base_uri": "https://localhost:8080/"
        },
        "id": "Zy1Tr45nB8yP",
        "outputId": "6543185a-b4e2-4305-c799-0eedee9c624b"
      },
      "execution_count": 13,
      "outputs": [
        {
          "output_type": "stream",
          "name": "stdout",
          "text": [
            "['facebook', 12.5, 300, (2+3j), [1, 2, 3]]\n"
          ]
        }
      ]
    },
    {
      "cell_type": "code",
      "source": [
        "#tuple = collection of different data types\n",
        "My_list = ('facebook',12.5, 300,2+3j)\n",
        "print (My_list)"
      ],
      "metadata": {
        "colab": {
          "base_uri": "https://localhost:8080/"
        },
        "id": "QJvOiPDCDBBI",
        "outputId": "0a8d447d-4c41-4f62-d87e-5ae92ae60701"
      },
      "execution_count": 14,
      "outputs": [
        {
          "output_type": "stream",
          "name": "stdout",
          "text": [
            "('facebook', 12.5, 300, (2+3j))\n"
          ]
        }
      ]
    },
    {
      "cell_type": "code",
      "source": [
        "#dictionar = UnOrdered set of Key-value pairs\n",
        "sp = {'Aishwaraya':100, 'Akshara':200, 'Jhansi':300}\n",
        "print (sp)"
      ],
      "metadata": {
        "colab": {
          "base_uri": "https://localhost:8080/"
        },
        "id": "Iij4mNo5A7af",
        "outputId": "0e9836b5-5d1e-4ca5-92c1-0d19c9df04bc"
      },
      "execution_count": 16,
      "outputs": [
        {
          "output_type": "stream",
          "name": "stdout",
          "text": [
            "{'Aishwaraya': 100, 'Akshara': 200, 'Jhansi': 300}\n"
          ]
        }
      ]
    },
    {
      "cell_type": "code",
      "source": [
        "#set = Unordered collection of unique Items\n",
        "a = {1,2,3,4,4,3,\"Shivaprasad Bollempally\"}\n",
        "print (a)"
      ],
      "metadata": {
        "colab": {
          "base_uri": "https://localhost:8080/"
        },
        "id": "zC9LfMdMET4I",
        "outputId": "897bc645-6ef9-483d-ecd8-9df87d28c758"
      },
      "execution_count": 80,
      "outputs": [
        {
          "output_type": "stream",
          "name": "stdout",
          "text": [
            "{1, 2, 3, 4, 'Shivaprasad Bollempally'}\n"
          ]
        }
      ]
    },
    {
      "cell_type": "code",
      "source": [
        "#Range = It gives immutable sequence of numbers bet. start and stop\n",
        "for i in range(5):\n",
        "    print(i)\n"
      ],
      "metadata": {
        "colab": {
          "base_uri": "https://localhost:8080/"
        },
        "id": "wmoCKSnWEmUn",
        "outputId": "11a75b42-3f60-45d1-dc77-237de85ca1d6"
      },
      "execution_count": 37,
      "outputs": [
        {
          "output_type": "stream",
          "name": "stdout",
          "text": [
            "0\n",
            "1\n",
            "2\n",
            "3\n",
            "4\n"
          ]
        }
      ]
    },
    {
      "cell_type": "code",
      "source": [
        "for i in range(0,10,2):\n",
        "    print(i)"
      ],
      "metadata": {
        "colab": {
          "base_uri": "https://localhost:8080/"
        },
        "id": "CvMFFlQBGrti",
        "outputId": "9f5b7092-8077-45ff-93c0-3640e0e17f31"
      },
      "execution_count": 39,
      "outputs": [
        {
          "output_type": "stream",
          "name": "stdout",
          "text": [
            "0\n",
            "2\n",
            "4\n",
            "6\n",
            "8\n"
          ]
        }
      ]
    },
    {
      "cell_type": "code",
      "source": [
        "for i in range(0,10,3):\n",
        "    print(i)"
      ],
      "metadata": {
        "colab": {
          "base_uri": "https://localhost:8080/"
        },
        "id": "KUkee_ozGxeP",
        "outputId": "ac19d8c9-4e3b-4099-a8ab-a1c85612d6f8"
      },
      "execution_count": 43,
      "outputs": [
        {
          "output_type": "stream",
          "name": "stdout",
          "text": [
            "0\n",
            "3\n",
            "6\n",
            "9\n"
          ]
        }
      ]
    },
    {
      "cell_type": "code",
      "source": [
        "#None = None data type means an object does not contain any value\n",
        "a = None\n",
        "print (a)"
      ],
      "metadata": {
        "colab": {
          "base_uri": "https://localhost:8080/"
        },
        "id": "O3OHRMNMG5t3",
        "outputId": "160bc7af-af0d-4da7-8d00-947a26980f04"
      },
      "execution_count": 44,
      "outputs": [
        {
          "output_type": "stream",
          "name": "stdout",
          "text": [
            "None\n"
          ]
        }
      ]
    },
    {
      "cell_type": "code",
      "source": [
        "#Bollean Value\n",
        "a = 20\n",
        "b = \"Shiva\"\n",
        "is_name =  True\n",
        "is_names = False\n",
        "if a == b:\n",
        "    print (is_name)\n",
        "else:\n",
        "    print (is_names)\n",
        "print (a==b and is_name)\n",
        "print (a==b and is_names)\n",
        "print (a == b)\n",
        "print (a != b)"
      ],
      "metadata": {
        "colab": {
          "base_uri": "https://localhost:8080/"
        },
        "id": "FDc0cIoDHNCF",
        "outputId": "804300a3-de63-475a-9d3a-8d6c85399e39"
      },
      "execution_count": 75,
      "outputs": [
        {
          "output_type": "stream",
          "name": "stdout",
          "text": [
            "False\n",
            "False\n",
            "False\n",
            "False\n",
            "True\n"
          ]
        }
      ]
    },
    {
      "cell_type": "code",
      "source": [
        "#Testing removing duplicates\n",
        "a = {1,2,2,3,4,3}\n",
        "print (a)"
      ],
      "metadata": {
        "colab": {
          "base_uri": "https://localhost:8080/"
        },
        "id": "Kj4b2DsQKTlF",
        "outputId": "f15acf58-babd-422d-beb6-df16b09c787d"
      },
      "execution_count": 78,
      "outputs": [
        {
          "output_type": "stream",
          "name": "stdout",
          "text": [
            "{1, 2, 3, 4}\n"
          ]
        }
      ]
    },
    {
      "cell_type": "code",
      "source": [
        "a = {'Shiva','Shivaprasad','Shiva','Shivaprasad Bollempally','Shivaprasad','Shivaprasad Bollempally'}\n",
        "print(a)"
      ],
      "metadata": {
        "colab": {
          "base_uri": "https://localhost:8080/"
        },
        "id": "fk_ZDH-xK9jE",
        "outputId": "c407215e-c01a-4492-c471-352461703cee"
      },
      "execution_count": 82,
      "outputs": [
        {
          "output_type": "stream",
          "name": "stdout",
          "text": [
            "{'Shiva', 'Shivaprasad', 'Shivaprasad Bollempally'}\n"
          ]
        }
      ]
    },
    {
      "cell_type": "code",
      "source": [
        "a = (1,4,7,9)\n",
        "print(a)"
      ],
      "metadata": {
        "colab": {
          "base_uri": "https://localhost:8080/"
        },
        "id": "ocQBoKgVLVxD",
        "outputId": "7d407016-b71a-4e41-f83a-d75610d42897"
      },
      "execution_count": 83,
      "outputs": [
        {
          "output_type": "stream",
          "name": "stdout",
          "text": [
            "(1, 4, 7, 9)\n"
          ]
        }
      ]
    },
    {
      "cell_type": "code",
      "source": [
        "#A string is a sequence of characters\n",
        "a = 'hello'\n",
        "b = \"hello\"\n",
        "print(a,b)"
      ],
      "metadata": {
        "colab": {
          "base_uri": "https://localhost:8080/"
        },
        "id": "Aa1-_U-RLcr1",
        "outputId": "7a158a71-2275-47b4-d8ea-04c1d4be5833"
      },
      "execution_count": 87,
      "outputs": [
        {
          "output_type": "stream",
          "name": "stdout",
          "text": [
            "hello hello\n"
          ]
        }
      ]
    },
    {
      "cell_type": "code",
      "source": [
        "#Triple quotes are also used but for multi-line strings and docstrings\n",
        "a = \"\"\"I am learning Python\n",
        "and Machine Learning Languages\"\"\"\n",
        "print(a)"
      ],
      "metadata": {
        "colab": {
          "base_uri": "https://localhost:8080/"
        },
        "id": "wCYThpI3MILn",
        "outputId": "560b97ea-9a03-4576-a2e8-caf938f789b7"
      },
      "execution_count": 89,
      "outputs": [
        {
          "output_type": "stream",
          "name": "stdout",
          "text": [
            "I am learning Python\n",
            "and Machine Learning Languages\n"
          ]
        }
      ]
    },
    {
      "cell_type": "code",
      "source": [
        "#Accessing substirng(characters)in string\n",
        "#Two ways 1) Indexing 2)Slicing\n",
        "#Example of slicing --- start stop step\n",
        "name = \"code yug\"\n",
        "print (name[0:5:3])"
      ],
      "metadata": {
        "colab": {
          "base_uri": "https://localhost:8080/"
        },
        "id": "fXt66OrRMn_V",
        "outputId": "da656341-c8cf-45f0-dac6-276a508a4f5f"
      },
      "execution_count": 97,
      "outputs": [
        {
          "output_type": "stream",
          "name": "stdout",
          "text": [
            "ce\n"
          ]
        }
      ]
    },
    {
      "cell_type": "code",
      "source": [
        "#21-04-2025"
      ],
      "metadata": {
        "id": "hih-a8UctR1n"
      },
      "execution_count": null,
      "outputs": []
    },
    {
      "cell_type": "code",
      "source": [],
      "metadata": {
        "id": "HeWzTFD8Kaj6"
      },
      "execution_count": null,
      "outputs": []
    },
    {
      "cell_type": "code",
      "source": [],
      "metadata": {
        "id": "p06nX754-xDV"
      },
      "execution_count": null,
      "outputs": []
    },
    {
      "cell_type": "code",
      "source": [
        "ashdkjas"
      ],
      "metadata": {
        "id": "34ZbDQBAxLWX"
      },
      "execution_count": null,
      "outputs": []
    }
  ]
}